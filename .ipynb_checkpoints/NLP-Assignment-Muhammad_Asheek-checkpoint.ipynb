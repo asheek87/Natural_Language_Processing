{
 "cells": [
  {
   "cell_type": "markdown",
   "metadata": {},
   "source": [
    "### Natural Language Processing Assignment\n",
    "\n",
    "#### Course: TIPP Intake 2\n",
    "\n",
    "#### Student Name:  Muhammad Asheek Bin Abu Bakar\n",
    "\n",
    "Note: by typing your full name, it is taken that you have read and understood the declaration below.\n",
    "\n",
    "#### Declaration:\n",
    "\n",
    "- I declare that this assignment is my original work. I understand that if I am suspected of plagiarism, my enrolment in the programme may be terminated.\n",
    "\n",
    "- I declare that I have a back-up electronic copy of this report for immediate submission.\n",
    "\n"
   ]
  },
  {
   "cell_type": "markdown",
   "metadata": {},
   "source": [
    "# READ ME\n",
    "#### The file NLP-Assignment-Muhammad_Asheek.ipynb is the main file to run\n",
    "####  This file requires the following supporting files / folders to run:\n",
    "#### 1. Analyser.py\n",
    "#### 2. Document.py\n",
    "#### 3. DocumentManager.py\n",
    "#### 4. ModelManager.py\n",
    "#### 5. input/MyStopWords.txt\n",
    "#### 6. output/ \n",
    "#### 6. Data/Orbituaries/"
   ]
  },
  {
   "cell_type": "markdown",
   "metadata": {},
   "source": [
    "# Step 1: Decide on the dataset of choice\n",
    "The Orbituaries data set was selected"
   ]
  },
  {
   "cell_type": "code",
   "execution_count": 1,
   "metadata": {},
   "outputs": [],
   "source": [
    "from DocumentManager import DocumentManager\n",
    "from ModelManager import ModelManager\n",
    "from Analyser import Analyser\n",
    "import time as t\n",
    "import pandas as pd\n",
    "import warnings\n",
    "warnings.filterwarnings('ignore')\n"
   ]
  },
  {
   "cell_type": "markdown",
   "metadata": {},
   "source": [
    "# Step 2: Prepare to load the dataset into the notebook"
   ]
  },
  {
   "cell_type": "code",
   "execution_count": 2,
   "metadata": {
    "tags": []
   },
   "outputs": [
    {
     "name": "stdout",
     "output_type": "stream",
     "text": [
      "Number of documents: 364\n",
      "Time taken for reading all corpus is 0.0449 seconds\n"
     ]
    }
   ],
   "source": [
    "# Document manager obj will read in data from Orbituaries folder.\n",
    "# Read non empty corpus\n",
    "\n",
    "# Create document manager obj\n",
    "docMan=DocumentManager()\n",
    "# Read non empty corpus\n",
    "start=t.time()\n",
    "docMan.readContents()\n",
    "end=t.time()\n",
    "print('Time taken for reading all corpus is {:.4f}'.format((end-start))+\" seconds\")"
   ]
  },
  {
   "cell_type": "markdown",
   "metadata": {},
   "source": [
    "# Step 3: Perform an inititate exploratory data analysis on the original dataset\n",
    "\n",
    "Since there are over 300 corpusus. Perform a selective visual inspection of data in txt. \n"
   ]
  },
  {
   "cell_type": "markdown",
   "metadata": {},
   "source": [
    "# Step 4: Clean and prepare the data\n",
    "\n",
    "Perform text pre-processing on corpus \\\n",
    "The cleaned data, containing all words and its frequency in all documents,will also be generated in to a file \\\n",
    "at folder output/ALL_Words.xlsx. The excel is used for visual analysis to check if stopwords needs to be updated \\\n",
    "If there is a need, update input/MyStopWprds.txt and perform step 4 gain."
   ]
  },
  {
   "cell_type": "code",
   "execution_count": 3,
   "metadata": {
    "tags": []
   },
   "outputs": [
    {
     "name": "stdout",
     "output_type": "stream",
     "text": [
      "\n",
      "        Will perform the following pre processing steps on all corpus:\n",
      "        1. Format corpus to sentences\n",
      "        2. Remove punctuation\n",
      "        3. Remove stopwords\n",
      "        4. Lemmatize word\n",
      "        6. Remove unnecesssary words and number\n",
      "        \n",
      "Pre Processing....\n",
      "Pre Processing DONE \n",
      "\n",
      "Time taken for cleaning all corpus is 6.9168 seconds\n"
     ]
    }
   ],
   "source": [
    "start=t.time()\n",
    "#Perform text pre-processing on corpus\n",
    "docMan.cleanDataInCorpus()\n",
    "#generate the words and ist frequency\n",
    "docMan.analyseFinalizedContent()\n",
    "end=t.time()\n",
    "print('Time taken for cleaning all corpus is {:.4f}'.format((end-start))+\" seconds\")"
   ]
  },
  {
   "cell_type": "markdown",
   "metadata": {},
   "source": [
    "# Step 5: Prepare the document term matrix"
   ]
  },
  {
   "cell_type": "code",
   "execution_count": 4,
   "metadata": {},
   "outputs": [
    {
     "data": {
      "text/html": [
       "<div>\n",
       "<style scoped>\n",
       "    .dataframe tbody tr th:only-of-type {\n",
       "        vertical-align: middle;\n",
       "    }\n",
       "\n",
       "    .dataframe tbody tr th {\n",
       "        vertical-align: top;\n",
       "    }\n",
       "\n",
       "    .dataframe thead th {\n",
       "        text-align: right;\n",
       "    }\n",
       "</style>\n",
       "<table border=\"1\" class=\"dataframe\">\n",
       "  <thead>\n",
       "    <tr style=\"text-align: right;\">\n",
       "      <th></th>\n",
       "      <th>abbott</th>\n",
       "      <th>abernathy</th>\n",
       "      <th>ability</th>\n",
       "      <th>able</th>\n",
       "      <th>abstract</th>\n",
       "      <th>abysmal</th>\n",
       "      <th>abyssinian</th>\n",
       "      <th>academic</th>\n",
       "      <th>academy</th>\n",
       "      <th>accepted</th>\n",
       "      <th>...</th>\n",
       "      <th>young</th>\n",
       "      <th>younger</th>\n",
       "      <th>youth</th>\n",
       "      <th>yuri</th>\n",
       "      <th>zachary</th>\n",
       "      <th>ziegfeld</th>\n",
       "      <th>ziegler</th>\n",
       "      <th>zoe</th>\n",
       "      <th>zoologica</th>\n",
       "      <th>zrathustra</th>\n",
       "    </tr>\n",
       "  </thead>\n",
       "  <tbody>\n",
       "    <tr>\n",
       "      <th>0101</th>\n",
       "      <td>0.0</td>\n",
       "      <td>0.0</td>\n",
       "      <td>0.0</td>\n",
       "      <td>0.0</td>\n",
       "      <td>0.0</td>\n",
       "      <td>0.0</td>\n",
       "      <td>0.0</td>\n",
       "      <td>0.0</td>\n",
       "      <td>0.0</td>\n",
       "      <td>0.0</td>\n",
       "      <td>...</td>\n",
       "      <td>0.0</td>\n",
       "      <td>0.0</td>\n",
       "      <td>0.0</td>\n",
       "      <td>0.0</td>\n",
       "      <td>0.0</td>\n",
       "      <td>0.0</td>\n",
       "      <td>0.0</td>\n",
       "      <td>0.0</td>\n",
       "      <td>0.0</td>\n",
       "      <td>0.0</td>\n",
       "    </tr>\n",
       "    <tr>\n",
       "      <th>0102</th>\n",
       "      <td>0.0</td>\n",
       "      <td>0.0</td>\n",
       "      <td>0.0</td>\n",
       "      <td>0.0</td>\n",
       "      <td>0.0</td>\n",
       "      <td>0.0</td>\n",
       "      <td>0.0</td>\n",
       "      <td>0.0</td>\n",
       "      <td>0.0</td>\n",
       "      <td>0.0</td>\n",
       "      <td>...</td>\n",
       "      <td>0.0</td>\n",
       "      <td>0.0</td>\n",
       "      <td>0.0</td>\n",
       "      <td>0.0</td>\n",
       "      <td>0.0</td>\n",
       "      <td>0.0</td>\n",
       "      <td>0.0</td>\n",
       "      <td>0.0</td>\n",
       "      <td>0.0</td>\n",
       "      <td>0.0</td>\n",
       "    </tr>\n",
       "    <tr>\n",
       "      <th>0104</th>\n",
       "      <td>0.0</td>\n",
       "      <td>0.0</td>\n",
       "      <td>0.0</td>\n",
       "      <td>0.0</td>\n",
       "      <td>0.0</td>\n",
       "      <td>0.0</td>\n",
       "      <td>0.0</td>\n",
       "      <td>0.0</td>\n",
       "      <td>0.0</td>\n",
       "      <td>0.0</td>\n",
       "      <td>...</td>\n",
       "      <td>0.0</td>\n",
       "      <td>0.0</td>\n",
       "      <td>0.0</td>\n",
       "      <td>0.0</td>\n",
       "      <td>0.0</td>\n",
       "      <td>0.0</td>\n",
       "      <td>0.0</td>\n",
       "      <td>0.0</td>\n",
       "      <td>0.0</td>\n",
       "      <td>0.0</td>\n",
       "    </tr>\n",
       "    <tr>\n",
       "      <th>0105</th>\n",
       "      <td>0.0</td>\n",
       "      <td>0.0</td>\n",
       "      <td>0.0</td>\n",
       "      <td>0.0</td>\n",
       "      <td>0.0</td>\n",
       "      <td>0.0</td>\n",
       "      <td>0.0</td>\n",
       "      <td>0.0</td>\n",
       "      <td>0.0</td>\n",
       "      <td>0.0</td>\n",
       "      <td>...</td>\n",
       "      <td>0.0</td>\n",
       "      <td>0.0</td>\n",
       "      <td>0.0</td>\n",
       "      <td>0.0</td>\n",
       "      <td>0.0</td>\n",
       "      <td>0.0</td>\n",
       "      <td>0.0</td>\n",
       "      <td>0.0</td>\n",
       "      <td>0.0</td>\n",
       "      <td>0.0</td>\n",
       "    </tr>\n",
       "    <tr>\n",
       "      <th>0106</th>\n",
       "      <td>0.0</td>\n",
       "      <td>0.0</td>\n",
       "      <td>0.0</td>\n",
       "      <td>0.0</td>\n",
       "      <td>0.0</td>\n",
       "      <td>0.0</td>\n",
       "      <td>0.0</td>\n",
       "      <td>0.0</td>\n",
       "      <td>0.0</td>\n",
       "      <td>0.0</td>\n",
       "      <td>...</td>\n",
       "      <td>0.0</td>\n",
       "      <td>0.0</td>\n",
       "      <td>0.0</td>\n",
       "      <td>0.0</td>\n",
       "      <td>0.0</td>\n",
       "      <td>0.0</td>\n",
       "      <td>0.0</td>\n",
       "      <td>0.0</td>\n",
       "      <td>0.0</td>\n",
       "      <td>0.0</td>\n",
       "    </tr>\n",
       "  </tbody>\n",
       "</table>\n",
       "<p>5 rows × 2209 columns</p>\n",
       "</div>"
      ],
      "text/plain": [
       "      abbott  abernathy  ability  able  abstract  abysmal  abyssinian  \\\n",
       "0101     0.0        0.0      0.0   0.0       0.0      0.0         0.0   \n",
       "0102     0.0        0.0      0.0   0.0       0.0      0.0         0.0   \n",
       "0104     0.0        0.0      0.0   0.0       0.0      0.0         0.0   \n",
       "0105     0.0        0.0      0.0   0.0       0.0      0.0         0.0   \n",
       "0106     0.0        0.0      0.0   0.0       0.0      0.0         0.0   \n",
       "\n",
       "      academic  academy  accepted  ...  young  younger  youth  yuri  zachary  \\\n",
       "0101       0.0      0.0       0.0  ...    0.0      0.0    0.0   0.0      0.0   \n",
       "0102       0.0      0.0       0.0  ...    0.0      0.0    0.0   0.0      0.0   \n",
       "0104       0.0      0.0       0.0  ...    0.0      0.0    0.0   0.0      0.0   \n",
       "0105       0.0      0.0       0.0  ...    0.0      0.0    0.0   0.0      0.0   \n",
       "0106       0.0      0.0       0.0  ...    0.0      0.0    0.0   0.0      0.0   \n",
       "\n",
       "      ziegfeld  ziegler  zoe  zoologica  zrathustra  \n",
       "0101       0.0      0.0  0.0        0.0         0.0  \n",
       "0102       0.0      0.0  0.0        0.0         0.0  \n",
       "0104       0.0      0.0  0.0        0.0         0.0  \n",
       "0105       0.0      0.0  0.0        0.0         0.0  \n",
       "0106       0.0      0.0  0.0        0.0         0.0  \n",
       "\n",
       "[5 rows x 2209 columns]"
      ]
     },
     "execution_count": 4,
     "metadata": {},
     "output_type": "execute_result"
    }
   ],
   "source": [
    "# Create model manager obj\n",
    "modMan=ModelManager(docMan.getDocuments(),DocumentManager.random)\n",
    "# Count Vectorize content using unigram and create DTM\n",
    "df_countVect=modMan.tfIDFVectorizeContent(1,1)\n",
    "df_countVect.head()"
   ]
  },
  {
   "cell_type": "markdown",
   "metadata": {},
   "source": [
    "# Step 6 to 9\n",
    "\n",
    "This cell will use method findBestParamAnd_NMFmodel() to perform the following steps:\\\n",
    "Step 6: Prepare the topic model object \\\n",
    "Step 7: Determine a suitable range of topic numbers \\\n",
    "Step 8: Fit and transform the document term matrix into topic model object \\\n",
    "Step 9: Select on the \"optimal\" number of topics"
   ]
  },
  {
   "cell_type": "code",
   "execution_count": 5,
   "metadata": {
    "tags": []
   },
   "outputs": [
    {
     "name": "stdout",
     "output_type": "stream",
     "text": [
      "Time taken to find best NMF model is 0.9950 seconds\n"
     ]
    }
   ],
   "source": [
    "iterList=[10,15]\n",
    "topicListRange=[2,10]# no of topics ranging from 3 to 10\n",
    "topKterms=5\n",
    "start=t.time()\n",
    "df_resultFull=modMan.findBestParamAnd_NMFmodel(iterList,topicListRange,topKterms)\n",
    "end=t.time()\n",
    "print('Time taken to find best NMF model is {:.4f}'.format((end-start))+\" seconds\")"
   ]
  },
  {
   "cell_type": "markdown",
   "metadata": {},
   "source": [
    "# Step 10: Evaluate the topic and terms. \n",
    "\n",
    "Determine if there is a need to go back prior steps.\n",
    "\n",
    "Base on evaluation in step 10 below, the number of topics which has the highest coherence is 2 irregardless of the number of iterations set.\n"
   ]
  },
  {
   "cell_type": "code",
   "execution_count": 6,
   "metadata": {
    "tags": []
   },
   "outputs": [
    {
     "name": "stdout",
     "output_type": "stream",
     "text": [
      "Display overall result on coherence value: \n"
     ]
    },
    {
     "data": {
      "text/html": [
       "<div>\n",
       "<style scoped>\n",
       "    .dataframe tbody tr th:only-of-type {\n",
       "        vertical-align: middle;\n",
       "    }\n",
       "\n",
       "    .dataframe tbody tr th {\n",
       "        vertical-align: top;\n",
       "    }\n",
       "\n",
       "    .dataframe thead th {\n",
       "        text-align: right;\n",
       "    }\n",
       "</style>\n",
       "<table border=\"1\" class=\"dataframe\">\n",
       "  <thead>\n",
       "    <tr style=\"text-align: right;\">\n",
       "      <th></th>\n",
       "      <th>0</th>\n",
       "      <th>1</th>\n",
       "      <th>2</th>\n",
       "      <th>3</th>\n",
       "      <th>4</th>\n",
       "      <th>5</th>\n",
       "      <th>6</th>\n",
       "      <th>7</th>\n",
       "      <th>8</th>\n",
       "      <th>9</th>\n",
       "      <th>10</th>\n",
       "      <th>11</th>\n",
       "      <th>12</th>\n",
       "      <th>13</th>\n",
       "      <th>14</th>\n",
       "      <th>15</th>\n",
       "      <th>16</th>\n",
       "      <th>17</th>\n",
       "    </tr>\n",
       "  </thead>\n",
       "  <tbody>\n",
       "    <tr>\n",
       "      <th>Iteration</th>\n",
       "      <td>10.000000</td>\n",
       "      <td>10.00000</td>\n",
       "      <td>10.000000</td>\n",
       "      <td>10.000000</td>\n",
       "      <td>10.000000</td>\n",
       "      <td>10.000000</td>\n",
       "      <td>10.000000</td>\n",
       "      <td>10.000000</td>\n",
       "      <td>10.000000</td>\n",
       "      <td>15.000000</td>\n",
       "      <td>15.00000</td>\n",
       "      <td>15.000000</td>\n",
       "      <td>15.000000</td>\n",
       "      <td>15.000000</td>\n",
       "      <td>15.000000</td>\n",
       "      <td>15.000000</td>\n",
       "      <td>15.00000</td>\n",
       "      <td>15.000000</td>\n",
       "    </tr>\n",
       "    <tr>\n",
       "      <th>Topic</th>\n",
       "      <td>2.000000</td>\n",
       "      <td>3.00000</td>\n",
       "      <td>4.000000</td>\n",
       "      <td>5.000000</td>\n",
       "      <td>6.000000</td>\n",
       "      <td>7.000000</td>\n",
       "      <td>8.000000</td>\n",
       "      <td>9.000000</td>\n",
       "      <td>10.000000</td>\n",
       "      <td>2.000000</td>\n",
       "      <td>3.00000</td>\n",
       "      <td>4.000000</td>\n",
       "      <td>5.000000</td>\n",
       "      <td>6.000000</td>\n",
       "      <td>7.000000</td>\n",
       "      <td>8.000000</td>\n",
       "      <td>9.00000</td>\n",
       "      <td>10.000000</td>\n",
       "    </tr>\n",
       "    <tr>\n",
       "      <th>Coherence</th>\n",
       "      <td>0.256071</td>\n",
       "      <td>0.20176</td>\n",
       "      <td>0.158678</td>\n",
       "      <td>0.172827</td>\n",
       "      <td>0.156974</td>\n",
       "      <td>0.139304</td>\n",
       "      <td>0.130804</td>\n",
       "      <td>0.129677</td>\n",
       "      <td>0.126543</td>\n",
       "      <td>0.256071</td>\n",
       "      <td>0.20176</td>\n",
       "      <td>0.148177</td>\n",
       "      <td>0.172827</td>\n",
       "      <td>0.159626</td>\n",
       "      <td>0.144317</td>\n",
       "      <td>0.132472</td>\n",
       "      <td>0.13116</td>\n",
       "      <td>0.127878</td>\n",
       "    </tr>\n",
       "  </tbody>\n",
       "</table>\n",
       "</div>"
      ],
      "text/plain": [
       "                   0         1          2          3          4          5  \\\n",
       "Iteration  10.000000  10.00000  10.000000  10.000000  10.000000  10.000000   \n",
       "Topic       2.000000   3.00000   4.000000   5.000000   6.000000   7.000000   \n",
       "Coherence   0.256071   0.20176   0.158678   0.172827   0.156974   0.139304   \n",
       "\n",
       "                   6          7          8          9        10         11  \\\n",
       "Iteration  10.000000  10.000000  10.000000  15.000000  15.00000  15.000000   \n",
       "Topic       8.000000   9.000000  10.000000   2.000000   3.00000   4.000000   \n",
       "Coherence   0.130804   0.129677   0.126543   0.256071   0.20176   0.148177   \n",
       "\n",
       "                  12         13         14         15        16         17  \n",
       "Iteration  15.000000  15.000000  15.000000  15.000000  15.00000  15.000000  \n",
       "Topic       5.000000   6.000000   7.000000   8.000000   9.00000  10.000000  \n",
       "Coherence   0.172827   0.159626   0.144317   0.132472   0.13116   0.127878  "
      ]
     },
     "execution_count": 6,
     "metadata": {},
     "output_type": "execute_result"
    }
   ],
   "source": [
    "# Display overall result on No of topics vs coherence value\n",
    "print('Display overall result on coherence value: ')\n",
    "df_resultFull.iloc[:,0:3].T"
   ]
  },
  {
   "cell_type": "code",
   "execution_count": 7,
   "metadata": {
    "tags": []
   },
   "outputs": [
    {
     "name": "stdout",
     "output_type": "stream",
     "text": [
      "Display result with highest coherence value: \n"
     ]
    },
    {
     "data": {
      "text/html": [
       "<div>\n",
       "<style scoped>\n",
       "    .dataframe tbody tr th:only-of-type {\n",
       "        vertical-align: middle;\n",
       "    }\n",
       "\n",
       "    .dataframe tbody tr th {\n",
       "        vertical-align: top;\n",
       "    }\n",
       "\n",
       "    .dataframe thead th {\n",
       "        text-align: right;\n",
       "    }\n",
       "</style>\n",
       "<table border=\"1\" class=\"dataframe\">\n",
       "  <thead>\n",
       "    <tr style=\"text-align: right;\">\n",
       "      <th></th>\n",
       "      <th>Iteration</th>\n",
       "      <th>Topic</th>\n",
       "      <th>Coherence</th>\n",
       "    </tr>\n",
       "  </thead>\n",
       "  <tbody>\n",
       "    <tr>\n",
       "      <th>0</th>\n",
       "      <td>10</td>\n",
       "      <td>2</td>\n",
       "      <td>0.256071</td>\n",
       "    </tr>\n",
       "    <tr>\n",
       "      <th>9</th>\n",
       "      <td>15</td>\n",
       "      <td>2</td>\n",
       "      <td>0.256071</td>\n",
       "    </tr>\n",
       "  </tbody>\n",
       "</table>\n",
       "</div>"
      ],
      "text/plain": [
       "   Iteration  Topic  Coherence\n",
       "0         10      2   0.256071\n",
       "9         15      2   0.256071"
      ]
     },
     "execution_count": 7,
     "metadata": {},
     "output_type": "execute_result"
    }
   ],
   "source": [
    "# Display result with highest coherence value\n",
    "print('Display result with highest coherence value: ')\n",
    "df_resultFull[df_resultFull.Coherence == df_resultFull.Coherence.max()].iloc[:,0:3]"
   ]
  },
  {
   "cell_type": "markdown",
   "metadata": {},
   "source": [
    "# Step 11: Label the original documents with the the most dominant topic. \n",
    "\n",
    "Base on evaluation in step 11 below, it can be assumed that there are 2 main topics in the Obituary data set \\\n",
    "Topic 0: Family \\\n",
    "Topic 1: Type of funeral service "
   ]
  },
  {
   "cell_type": "code",
   "execution_count": 8,
   "metadata": {
    "tags": []
   },
   "outputs": [
    {
     "name": "stdout",
     "output_type": "stream",
     "text": [
      "Display overall result on the Dominant topic per document: \n"
     ]
    },
    {
     "data": {
      "text/html": [
       "<div>\n",
       "<style scoped>\n",
       "    .dataframe tbody tr th:only-of-type {\n",
       "        vertical-align: middle;\n",
       "    }\n",
       "\n",
       "    .dataframe tbody tr th {\n",
       "        vertical-align: top;\n",
       "    }\n",
       "\n",
       "    .dataframe thead th {\n",
       "        text-align: right;\n",
       "    }\n",
       "</style>\n",
       "<table border=\"1\" class=\"dataframe\">\n",
       "  <thead>\n",
       "    <tr style=\"text-align: right;\">\n",
       "      <th></th>\n",
       "      <th>Docmument_ID</th>\n",
       "      <th>Dominant_Topic</th>\n",
       "      <th>Topic_0</th>\n",
       "      <th>Topic_1</th>\n",
       "    </tr>\n",
       "  </thead>\n",
       "  <tbody>\n",
       "    <tr>\n",
       "      <th>0</th>\n",
       "      <td>0101</td>\n",
       "      <td>0</td>\n",
       "      <td>0.001</td>\n",
       "      <td>0.001</td>\n",
       "    </tr>\n",
       "    <tr>\n",
       "      <th>1</th>\n",
       "      <td>0102</td>\n",
       "      <td>0</td>\n",
       "      <td>0.000</td>\n",
       "      <td>0.000</td>\n",
       "    </tr>\n",
       "    <tr>\n",
       "      <th>2</th>\n",
       "      <td>0104</td>\n",
       "      <td>0</td>\n",
       "      <td>0.007</td>\n",
       "      <td>0.001</td>\n",
       "    </tr>\n",
       "    <tr>\n",
       "      <th>3</th>\n",
       "      <td>0105</td>\n",
       "      <td>0</td>\n",
       "      <td>0.020</td>\n",
       "      <td>0.003</td>\n",
       "    </tr>\n",
       "    <tr>\n",
       "      <th>4</th>\n",
       "      <td>0106</td>\n",
       "      <td>0</td>\n",
       "      <td>0.000</td>\n",
       "      <td>0.000</td>\n",
       "    </tr>\n",
       "    <tr>\n",
       "      <th>...</th>\n",
       "      <td>...</td>\n",
       "      <td>...</td>\n",
       "      <td>...</td>\n",
       "      <td>...</td>\n",
       "    </tr>\n",
       "    <tr>\n",
       "      <th>359</th>\n",
       "      <td>1227</td>\n",
       "      <td>0</td>\n",
       "      <td>0.014</td>\n",
       "      <td>0.008</td>\n",
       "    </tr>\n",
       "    <tr>\n",
       "      <th>360</th>\n",
       "      <td>1228</td>\n",
       "      <td>0</td>\n",
       "      <td>0.133</td>\n",
       "      <td>0.000</td>\n",
       "    </tr>\n",
       "    <tr>\n",
       "      <th>361</th>\n",
       "      <td>1229</td>\n",
       "      <td>1</td>\n",
       "      <td>0.001</td>\n",
       "      <td>0.002</td>\n",
       "    </tr>\n",
       "    <tr>\n",
       "      <th>362</th>\n",
       "      <td>1230</td>\n",
       "      <td>1</td>\n",
       "      <td>0.001</td>\n",
       "      <td>0.002</td>\n",
       "    </tr>\n",
       "    <tr>\n",
       "      <th>363</th>\n",
       "      <td>1231</td>\n",
       "      <td>0</td>\n",
       "      <td>0.007</td>\n",
       "      <td>0.000</td>\n",
       "    </tr>\n",
       "  </tbody>\n",
       "</table>\n",
       "<p>364 rows × 4 columns</p>\n",
       "</div>"
      ],
      "text/plain": [
       "    Docmument_ID  Dominant_Topic  Topic_0  Topic_1\n",
       "0           0101               0    0.001    0.001\n",
       "1           0102               0    0.000    0.000\n",
       "2           0104               0    0.007    0.001\n",
       "3           0105               0    0.020    0.003\n",
       "4           0106               0    0.000    0.000\n",
       "..           ...             ...      ...      ...\n",
       "359         1227               0    0.014    0.008\n",
       "360         1228               0    0.133    0.000\n",
       "361         1229               1    0.001    0.002\n",
       "362         1230               1    0.001    0.002\n",
       "363         1231               0    0.007    0.000\n",
       "\n",
       "[364 rows x 4 columns]"
      ]
     },
     "execution_count": 8,
     "metadata": {},
     "output_type": "execute_result"
    }
   ],
   "source": [
    "# Display overall result on the Dominant topic per document\n",
    "print('Display overall result on the Dominant topic per document: ')\n",
    "df_topic_doc, updateDocList=modMan.findDominantTopic('nmf')\n",
    "docMan.updateDocListWithLable(updateDocList)\n",
    "# Generate a xlxs file to see complete info of dataframe: df_topic_doc\n",
    "df_topic_doc.to_excel(\"output/Doc_Topic.xlsx\")  \n",
    "df_topic_doc"
   ]
  },
  {
   "cell_type": "code",
   "execution_count": 9,
   "metadata": {},
   "outputs": [
    {
     "data": {
      "image/png": "[encoded data removed]",
      "text/plain": [
       "<Figure size 936x576 with 1 Axes>"
      ]
     },
     "metadata": {
      "needs_background": "light"
     },
     "output_type": "display_data"
    },
    {
     "data": {
      "image/png": "[encoded data removed]",
      "text/plain": [
       "<Figure size 936x576 with 1 Axes>"
      ]
     },
     "metadata": {
      "needs_background": "light"
     },
     "output_type": "display_data"
    }
   ],
   "source": [
    "# Display overall top K terms for each topic for analysis\n",
    "analyser=Analyser()\n",
    "analyser.plot_top_term_weights(modMan,topKterms)"
   ]
  },
  {
   "cell_type": "markdown",
   "metadata": {},
   "source": [
    "# Step 12: Split the original documents into test and train sets\n"
   ]
  },
  {
   "cell_type": "code",
   "execution_count": 10,
   "metadata": {
    "tags": []
   },
   "outputs": [
    {
     "name": "stdout",
     "output_type": "stream",
     "text": [
      "Lable is not evenly distributed,so have to stratify preparing training data model classification\n"
     ]
    },
    {
     "data": {
      "image/png": "[encoded data removed]",
      "text/plain": [
       "<Figure size 432x288 with 1 Axes>"
      ]
     },
     "metadata": {
      "needs_background": "light"
     },
     "output_type": "display_data"
    }
   ],
   "source": [
    "# Analyse the distibution of the target lable. \n",
    "print('Lable is not evenly distributed,so have to stratify preparing training data model classification')\n",
    "analyser.distplotlabel(docMan.getDataLables(),\"Dominant_Topic\")"
   ]
  },
  {
   "cell_type": "code",
   "execution_count": 11,
   "metadata": {},
   "outputs": [],
   "source": [
    "# Get the data and train the Classification model\n",
    "X_train, X_test, y_train, y_test = docMan.getTrainAndTestData(True)"
   ]
  },
  {
   "cell_type": "markdown",
   "metadata": {
    "tags": []
   },
   "source": [
    "# Step 13: Carry out classification modelling\n"
   ]
  },
  {
   "cell_type": "code",
   "execution_count": 12,
   "metadata": {},
   "outputs": [
    {
     "name": "stdout",
     "output_type": "stream",
     "text": [
      "(254, 1657)\n",
      "(110, 1657)\n"
     ]
    }
   ],
   "source": [
    "y_pred=modMan.trainAndPedict_NaiveBayesClassificationModel(X_train, X_test, y_train,modMan.getTFIDFVectorizer() )"
   ]
  },
  {
   "cell_type": "markdown",
   "metadata": {
    "tags": []
   },
   "source": [
    "# Step 14: Evaluate the results. Determine if there is a need to return to prior steps.\n",
    "\n"
   ]
  },
  {
   "cell_type": "code",
   "execution_count": 13,
   "metadata": {},
   "outputs": [
    {
     "name": "stdout",
     "output_type": "stream",
     "text": [
      "Accuracy: 0.7545454545454545\n",
      "Precision: 0.8214876033057852\n",
      "Recall: 0.7545454545454545\n",
      "              precision    recall  f1-score   support\n",
      "\n",
      "           0       0.73      1.00      0.84        72\n",
      "           1       1.00      0.29      0.45        38\n",
      "\n",
      "    accuracy                           0.75       110\n",
      "   macro avg       0.86      0.64      0.65       110\n",
      "weighted avg       0.82      0.75      0.71       110\n",
      "\n"
     ]
    },
    {
     "data": {
      "image/png": "[encoded data removed]",
      "text/plain": [
       "<Figure size 432x288 with 2 Axes>"
      ]
     },
     "metadata": {},
     "output_type": "display_data"
    }
   ],
   "source": [
    "# Evaluate model\n",
    "from sklearn import metrics\n",
    "cmArr=metrics.confusion_matrix(y_test, y_pred)\n",
    "numOfUniqueLables=docMan.getNoOfUniqueLabel()\n",
    "analyser.plotConfusionMatrix(cmArr,numOfUniqueLables)\n",
    "\n",
    "print(\"Accuracy:\",metrics.accuracy_score(y_test, y_pred))\n",
    "print(\"Precision:\",metrics.precision_score(y_test, y_pred,average='weighted'))\n",
    "print(\"Recall:\",metrics.recall_score(y_test, y_pred,average='weighted'))\n",
    "print(metrics.classification_report(y_test, y_pred))"
   ]
  },
  {
   "cell_type": "markdown",
   "metadata": {},
   "source": [
    "\n",
    "### Question 1: Was the outcome of the topic modelling and classification satisfactory?  Please elaborate on your answers.\n",
    "\n",
    "\n",
    "For the topic modelling outcome, it is not saticfatory. I expect more topics to be discovered but in determining the number of topics, it is found that the higher the number, the lower the coherance value \\\n",
    "In truth, the highest cohenrence value, 0.279012 , is when number of topic is 1. But I decided to have a minimum coherence threshold value of 0.2 and above.  \\\n",
    "The max number of topics which is above this threshold is 2. Anything more, the coherence value is very small.\n",
    "\n",
    "As for the classification,given the unsatisfactory no of topics found, and being able to detect with 0.75 accuracy is quite reasonable\n"
   ]
  },
  {
   "cell_type": "markdown",
   "metadata": {},
   "source": [
    "\n",
    "### Question 2: Describe at least 3 issues that you have encountered with the data source. What text pre-preocessing methods did you apply to address these assumes?\n",
    "\n",
    "1. The data souce is in the hundreds and to visually inspect all of them to get sense of the topic is impossible. A selective visual inspection is done to check on any discprepancies of the characters\n",
    "   for example make sure the text does not contain non english characters. A printout of all words is also done at output/ALL_Words.xlsx to check on the words after cleaning is complete\n",
    "   \n",
    "2. There words which has the same root word. So lemmatization is done to reduce these words to the root form and remove any duplicated words once lemmatized.\n",
    "\n",
    "3. Even after removing punctuation and root words, there are instances where there is a single character alphabet or words which are up to 2 characters long.\n",
    "   such as 'a' 'as' 'go'. These words on their own are of little meaniing so they are removed as  well\n"
   ]
  },
  {
   "cell_type": "markdown",
   "metadata": {},
   "source": [
    "### Question 3: Describe some key takeaways you have learnt from this assignment.\n",
    "\n",
    "1. Do not have any expectation beforehand on the number of topics which can be discovered\n",
    "2. Cleaning data properly is important as it can affect the coherance value thus affecting accuracy of classifying documents\n",
    "3. Cleaning data is a labour intensive and iterative process\n",
    "4. It is impossible to visually inspect hundred of corpuses to get a sense of of the topics that is present\n",
    "5. Implementing NMF topic modelling with TF-IDF vectorizer gave a slighly better result than using LDA and Count vectoirzer. \n",
    "   I did implement at TIPP_NLP_LDA-Count.py for side comparison purposes LDA gave more topics but they are harder to identfy what each topics represents\n",
    "6. The sequnce when cleaning data is important. such as removing stop words shld be done after removing punctuation"
   ]
  },
  {
   "cell_type": "code",
   "execution_count": null,
   "metadata": {},
   "outputs": [],
   "source": []
  }
 ],
 "metadata": {
  "kernelspec": {
   "display_name": "Python 3",
   "language": "python",
   "name": "python3"
  },
  "language_info": {
   "codemirror_mode": {
    "name": "ipython",
    "version": 3
   },
   "file_extension": ".py",
   "mimetype": "text/x-python",
   "name": "python",
   "nbconvert_exporter": "python",
   "pygments_lexer": "ipython3",
   "version": "3.7.7"
  }
 },
 "nbformat": 4,
 "nbformat_minor": 4
}
